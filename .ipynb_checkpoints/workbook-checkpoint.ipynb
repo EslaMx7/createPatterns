{
 "cells": [
  {
   "cell_type": "code",
   "execution_count": 26,
   "metadata": {},
   "outputs": [],
   "source": [
    "class myClass():\n",
    "    \n",
    "    noCandles = 2000\n",
    "    \n",
    "    pars = {'loadMethod' : None,\n",
    "            'dbName' : None,\n",
    "            'fileName' : None,\n",
    "            'loadFuntion': None}\n",
    "    \n",
    "    @classmethod\n",
    "    def reset(cls):\n",
    "        \"\"\"Reset class parameters\"\"\"\n",
    "        for par in cls.pars:\n",
    "            cls.pars[par] = None\n",
    "\n",
    "    @classmethod\n",
    "    def init(cls, string):\n",
    "        \n",
    "        cls.reset()\n",
    "        \n",
    "        if string['loadMethod'] == 'influxdb':\n",
    "            cls.pars['loadMethod'] = string['loadMethod']\n",
    "            cls.pars['dbName'] = string['dbName']\n",
    "            cls.pars['loadFunction'] = string['loadFunction']\n",
    "            \n",
    "        elif string['loadMethod'] == 'file':\n",
    "            cls.pars['loadMethod'] = string['loadMethod']\n",
    "            cls.pars['fileName'] = string['fileName']\n",
    "            cls.pars['loadFunction'] = string['loadFunction']\n",
    "            \n",
    "        else:\n",
    "            raise ValueError"
   ]
  },
  {
   "cell_type": "code",
   "execution_count": 29,
   "metadata": {},
   "outputs": [],
   "source": [
    "def fun(a, b, client):\n",
    "    print('execute fun')\n",
    "    print(client)\n",
    "    \n",
    "myClass.init({'loadMethod': 'influxdb', 'dbName': 'name1', 'loadFunction': fun})"
   ]
  },
  {
   "cell_type": "code",
   "execution_count": 30,
   "metadata": {},
   "outputs": [
    {
     "name": "stdout",
     "output_type": "stream",
     "text": [
      "execute fun\n",
      "3\n"
     ]
    }
   ],
   "source": [
    "myClass.pars\n",
    "keyargs = {'client': 3}\n",
    "myClass.pars['loadFunction'](1,2, **keyargs)"
   ]
  },
  {
   "cell_type": "code",
   "execution_count": 4,
   "metadata": {},
   "outputs": [],
   "source": [
    "myClass.init({'loadMethod': 'file', 'fileName': 'name2'})"
   ]
  },
  {
   "cell_type": "code",
   "execution_count": 5,
   "metadata": {},
   "outputs": [
    {
     "data": {
      "text/plain": [
       "{'loadMethod': 'file', 'dbName': None, 'fileName': 'name2'}"
      ]
     },
     "execution_count": 5,
     "metadata": {},
     "output_type": "execute_result"
    }
   ],
   "source": [
    "myClass.pars"
   ]
  },
  {
   "cell_type": "code",
   "execution_count": 7,
   "metadata": {},
   "outputs": [
    {
     "data": {
      "text/plain": [
       "'\"some text goes here\"'"
      ]
     },
     "execution_count": 7,
     "metadata": {},
     "output_type": "execute_result"
    }
   ],
   "source": [
    "import json\n",
    "json.dumps('some text goes here')"
   ]
  },
  {
   "cell_type": "code",
   "execution_count": 32,
   "metadata": {},
   "outputs": [
    {
     "name": "stdout",
     "output_type": "stream",
     "text": [
      "executing fun1\n"
     ]
    }
   ],
   "source": [
    "def fun1():\n",
    "    print('executing fun1')\n",
    "\n",
    "def fun2():\n",
    "    return fun1()\n",
    "\n",
    "fun2()"
   ]
  }
 ],
 "metadata": {
  "kernelspec": {
   "display_name": "Python 3",
   "language": "python",
   "name": "python3"
  },
  "language_info": {
   "codemirror_mode": {
    "name": "ipython",
    "version": 3
   },
   "file_extension": ".py",
   "mimetype": "text/x-python",
   "name": "python",
   "nbconvert_exporter": "python",
   "pygments_lexer": "ipython3",
   "version": "3.7.3"
  }
 },
 "nbformat": 4,
 "nbformat_minor": 2
}
