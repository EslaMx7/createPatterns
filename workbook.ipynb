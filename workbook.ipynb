{
 "cells": [
  {
   "cell_type": "code",
   "execution_count": 26,
   "metadata": {},
   "outputs": [],
   "source": [
    "class myClass():\n",
    "    \n",
    "    noCandles = 2000\n",
    "    \n",
    "    pars = {'loadMethod' : None,\n",
    "            'dbName' : None,\n",
    "            'fileName' : None,\n",
    "            'loadFuntion': None}\n",
    "    \n",
    "    @classmethod\n",
    "    def reset(cls):\n",
    "        \"\"\"Reset class parameters\"\"\"\n",
    "        for par in cls.pars:\n",
    "            cls.pars[par] = None\n",
    "\n",
    "    @classmethod\n",
    "    def init(cls, string):\n",
    "        \n",
    "        cls.reset()\n",
    "        \n",
    "        if string['loadMethod'] == 'influxdb':\n",
    "            cls.pars['loadMethod'] = string['loadMethod']\n",
    "            cls.pars['dbName'] = string['dbName']\n",
    "            cls.pars['loadFunction'] = string['loadFunction']\n",
    "            \n",
    "        elif string['loadMethod'] == 'file':\n",
    "            cls.pars['loadMethod'] = string['loadMethod']\n",
    "            cls.pars['fileName'] = string['fileName']\n",
    "            cls.pars['loadFunction'] = string['loadFunction']\n",
    "            \n",
    "        else:\n",
    "            raise ValueError"
   ]
  },
  {
   "cell_type": "code",
   "execution_count": 29,
   "metadata": {},
   "outputs": [],
   "source": [
    "def fun(a, b, client):\n",
    "    print('execute fun')\n",
    "    print(client)\n",
    "    \n",
    "myClass.init({'loadMethod': 'influxdb', 'dbName': 'name1', 'loadFunction': fun})"
   ]
  },
  {
   "cell_type": "code",
   "execution_count": 30,
   "metadata": {},
   "outputs": [
    {
     "name": "stdout",
     "output_type": "stream",
     "text": [
      "execute fun\n",
      "3\n"
     ]
    }
   ],
   "source": [
    "myClass.pars\n",
    "keyargs = {'client': 3}\n",
    "myClass.pars['loadFunction'](1,2, **keyargs)"
   ]
  },
  {
   "cell_type": "code",
   "execution_count": 4,
   "metadata": {},
   "outputs": [],
   "source": [
    "myClass.init({'loadMethod': 'file', 'fileName': 'name2'})"
   ]
  },
  {
   "cell_type": "code",
   "execution_count": 5,
   "metadata": {},
   "outputs": [
    {
     "data": {
      "text/plain": [
       "{'loadMethod': 'file', 'dbName': None, 'fileName': 'name2'}"
      ]
     },
     "execution_count": 5,
     "metadata": {},
     "output_type": "execute_result"
    }
   ],
   "source": [
    "myClass.pars"
   ]
  },
  {
   "cell_type": "code",
   "execution_count": 7,
   "metadata": {},
   "outputs": [
    {
     "data": {
      "text/plain": [
       "'\"some text goes here\"'"
      ]
     },
     "execution_count": 7,
     "metadata": {},
     "output_type": "execute_result"
    }
   ],
   "source": [
    "import json\n",
    "json.dumps('some text goes here')"
   ]
  },
  {
   "cell_type": "code",
   "execution_count": 32,
   "metadata": {},
   "outputs": [
    {
     "name": "stdout",
     "output_type": "stream",
     "text": [
      "executing fun1\n"
     ]
    }
   ],
   "source": [
    "def fun1():\n",
    "    print('executing fun1')\n",
    "\n",
    "def fun2():\n",
    "    return fun1()\n",
    "\n",
    "fun2()"
   ]
  },
  {
   "cell_type": "code",
   "execution_count": 57,
   "metadata": {},
   "outputs": [],
   "source": [
    "from influxdb import DataFrameClient\n",
    "def loadDataFromInfluxdb(dtLimit, direction, client, noCandles):\n",
    "    \"\"\"Actual implementation of data loading from Influxdb\"\"\"\n",
    "    if direction == 'left':\n",
    "        query = 'SELECT \"time\", \"open\", \"high\", \"low\", \"close\" FROM \"rates\" WHERE time < \\'%s\\' AND (\"status\" = \\'C\\' OR \"status\" = \\'A\\') ORDER BY DESC LIMIT %i' % (dtLimit, noCandles)\n",
    "    elif direction == 'right':\n",
    "        query = 'SELECT \"time\", \"open\", \"high\", \"low\", \"close\" FROM \"rates\" WHERE time > \\'%s\\' AND (\"status\" = \\'C\\' OR \"status\" = \\'A\\') ORDER BY ASC LIMIT %i' % (dtLimit, noCandles)\n",
    "    try:\n",
    "        rates = client.query(query)['rates']\n",
    "    except KeyError:\n",
    "        raise Exception('No such data exist in database!')\n",
    "    return rates"
   ]
  },
  {
   "cell_type": "code",
   "execution_count": 55,
   "metadata": {},
   "outputs": [],
   "source": [
    "client = DataFrameClient(host='127.0.0.1', port=8086, database='oanda.eurusd.M1')\n",
    "rates = loadDataFromInfluxdb('2011-01-03T13:42:00Z', 'left', client, 2000)"
   ]
  },
  {
   "cell_type": "code",
   "execution_count": 56,
   "metadata": {},
   "outputs": [
    {
     "name": "stdout",
     "output_type": "stream",
     "text": [
      "                              open     high      low    close\n",
      "2011-01-03 00:00:00+00:00  1.33417  1.33451  1.33405  1.33423\n",
      "2011-01-03 00:01:00+00:00  1.33425  1.33464  1.33425  1.33459\n",
      "2011-01-03 00:02:00+00:00  1.33457  1.33460  1.33428  1.33432\n",
      "2011-01-03 00:03:00+00:00  1.33434  1.33453  1.33401  1.33401\n",
      "2011-01-03 00:04:00+00:00  1.33398  1.33398  1.33377  1.33387\n",
      "...                            ...      ...      ...      ...\n",
      "2011-01-03 13:37:00+00:00  1.33454  1.33457  1.33438  1.33438\n",
      "2011-01-03 13:38:00+00:00  1.33435  1.33442  1.33415  1.33442\n",
      "2011-01-03 13:39:00+00:00  1.33444  1.33464  1.33442  1.33464\n",
      "2011-01-03 13:40:00+00:00  1.33462  1.33506  1.33462  1.33503\n",
      "2011-01-03 13:41:00+00:00  1.33505  1.33536  1.33487  1.33494\n",
      "\n",
      "[816 rows x 4 columns]\n"
     ]
    }
   ],
   "source": [
    "print(rates)"
   ]
  }
 ],
 "metadata": {
  "kernelspec": {
   "display_name": "Python [conda env:oanda]",
   "language": "python",
   "name": "conda-env-oanda-py"
  },
  "language_info": {
   "codemirror_mode": {
    "name": "ipython",
    "version": 3
   },
   "file_extension": ".py",
   "mimetype": "text/x-python",
   "name": "python",
   "nbconvert_exporter": "python",
   "pygments_lexer": "ipython3",
   "version": "3.7.4"
  }
 },
 "nbformat": 4,
 "nbformat_minor": 2
}
